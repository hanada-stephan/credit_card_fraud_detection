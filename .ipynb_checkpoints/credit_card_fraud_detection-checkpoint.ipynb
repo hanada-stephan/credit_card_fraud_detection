{
 "cells": [
  {
   "cell_type": "markdown",
   "metadata": {
    "id": "_iQ-17mLJdea"
   },
   "source": [
    "# Credit Card Fraud Detection"
   ]
  },
  {
   "cell_type": "markdown",
   "metadata": {
    "id": "c0UdKeY_yvpz"
   },
   "source": [
    "# Disclaimer"
   ]
  },
  {
   "cell_type": "markdown",
   "metadata": {
    "id": "xWBYgnuYJiSR"
   },
   "source": [
    "This notebook is part of Alura's course Árvores de Decisão: aprofundando em modelos de Machine Learning (Decision trees: delving into Machine Learning models) by Thainá Mariani ([Link](https://cursos.alura.com.br/course/arvores-decisao-aprofundando-modelos-machine-learning)).\n",
    "\n",
    "[Here](https://www.kaggle.com/datasets/mlg-ulb/creditcardfraud) you can find the credit card fraud detection on Kaggle.\n",
    "\n",
    "All the code was written in Python 3, using Google Colab.\n",
    "\n",
    "**For more info, check the README.**"
   ]
  },
  {
   "cell_type": "code",
   "execution_count": 1,
   "metadata": {
    "id": "oQu6jrhyRvZJ"
   },
   "outputs": [],
   "source": [
    "# Import libraries\n",
    "\n",
    "import itertools\n",
    "import os\n",
    "\n",
    "import matplotlib.pyplot as plt\n",
    "import numpy as np\n",
    "import pandas as pd\n",
    "from sklearn import tree\n",
    "from sklearn.ensemble import AdaBoostClassifier, RandomForestClassifier \n",
    "\n",
    "from utils.model import run_model, validator_stratified_shuffle_split\n",
    "from utils.plotting import plot_confusion_matrix\n",
    "from utils.score import validation_scores"
   ]
  },
  {
   "cell_type": "markdown",
   "metadata": {},
   "source": [
    "Since that data set had been cleaned, let's skip to the exploratory analysis.  "
   ]
  },
  {
   "cell_type": "markdown",
   "metadata": {
    "id": "IUMeFkzVUEGg"
   },
   "source": [
    "# EDA"
   ]
  },
  {
   "cell_type": "code",
   "execution_count": 5,
   "metadata": {
    "colab": {
     "base_uri": "https://localhost:8080/",
     "height": 236
    },
    "id": "_1ZKpvvcIE3H",
    "outputId": "bde8360c-f81a-4485-8aeb-f8acd554192c"
   },
   "outputs": [
    {
     "data": {
      "text/html": [
       "<div>\n",
       "<style scoped>\n",
       "    .dataframe tbody tr th:only-of-type {\n",
       "        vertical-align: middle;\n",
       "    }\n",
       "\n",
       "    .dataframe tbody tr th {\n",
       "        vertical-align: top;\n",
       "    }\n",
       "\n",
       "    .dataframe thead th {\n",
       "        text-align: right;\n",
       "    }\n",
       "</style>\n",
       "<table border=\"1\" class=\"dataframe\">\n",
       "  <thead>\n",
       "    <tr style=\"text-align: right;\">\n",
       "      <th></th>\n",
       "      <th>Time</th>\n",
       "      <th>V1</th>\n",
       "      <th>V2</th>\n",
       "      <th>V3</th>\n",
       "      <th>V4</th>\n",
       "      <th>V5</th>\n",
       "      <th>V6</th>\n",
       "      <th>V7</th>\n",
       "      <th>V8</th>\n",
       "      <th>V9</th>\n",
       "      <th>...</th>\n",
       "      <th>V21</th>\n",
       "      <th>V22</th>\n",
       "      <th>V23</th>\n",
       "      <th>V24</th>\n",
       "      <th>V25</th>\n",
       "      <th>V26</th>\n",
       "      <th>V27</th>\n",
       "      <th>V28</th>\n",
       "      <th>Amount</th>\n",
       "      <th>Class</th>\n",
       "    </tr>\n",
       "  </thead>\n",
       "  <tbody>\n",
       "    <tr>\n",
       "      <th>0</th>\n",
       "      <td>0.0</td>\n",
       "      <td>-1.359807</td>\n",
       "      <td>-0.072781</td>\n",
       "      <td>2.536347</td>\n",
       "      <td>1.378155</td>\n",
       "      <td>-0.338321</td>\n",
       "      <td>0.462388</td>\n",
       "      <td>0.239599</td>\n",
       "      <td>0.098698</td>\n",
       "      <td>0.363787</td>\n",
       "      <td>...</td>\n",
       "      <td>-0.018307</td>\n",
       "      <td>0.277838</td>\n",
       "      <td>-0.110474</td>\n",
       "      <td>0.066928</td>\n",
       "      <td>0.128539</td>\n",
       "      <td>-0.189115</td>\n",
       "      <td>0.133558</td>\n",
       "      <td>-0.021053</td>\n",
       "      <td>149.62</td>\n",
       "      <td>0</td>\n",
       "    </tr>\n",
       "    <tr>\n",
       "      <th>1</th>\n",
       "      <td>0.0</td>\n",
       "      <td>1.191857</td>\n",
       "      <td>0.266151</td>\n",
       "      <td>0.166480</td>\n",
       "      <td>0.448154</td>\n",
       "      <td>0.060018</td>\n",
       "      <td>-0.082361</td>\n",
       "      <td>-0.078803</td>\n",
       "      <td>0.085102</td>\n",
       "      <td>-0.255425</td>\n",
       "      <td>...</td>\n",
       "      <td>-0.225775</td>\n",
       "      <td>-0.638672</td>\n",
       "      <td>0.101288</td>\n",
       "      <td>-0.339846</td>\n",
       "      <td>0.167170</td>\n",
       "      <td>0.125895</td>\n",
       "      <td>-0.008983</td>\n",
       "      <td>0.014724</td>\n",
       "      <td>2.69</td>\n",
       "      <td>0</td>\n",
       "    </tr>\n",
       "    <tr>\n",
       "      <th>2</th>\n",
       "      <td>1.0</td>\n",
       "      <td>-1.358354</td>\n",
       "      <td>-1.340163</td>\n",
       "      <td>1.773209</td>\n",
       "      <td>0.379780</td>\n",
       "      <td>-0.503198</td>\n",
       "      <td>1.800499</td>\n",
       "      <td>0.791461</td>\n",
       "      <td>0.247676</td>\n",
       "      <td>-1.514654</td>\n",
       "      <td>...</td>\n",
       "      <td>0.247998</td>\n",
       "      <td>0.771679</td>\n",
       "      <td>0.909412</td>\n",
       "      <td>-0.689281</td>\n",
       "      <td>-0.327642</td>\n",
       "      <td>-0.139097</td>\n",
       "      <td>-0.055353</td>\n",
       "      <td>-0.059752</td>\n",
       "      <td>378.66</td>\n",
       "      <td>0</td>\n",
       "    </tr>\n",
       "    <tr>\n",
       "      <th>3</th>\n",
       "      <td>1.0</td>\n",
       "      <td>-0.966272</td>\n",
       "      <td>-0.185226</td>\n",
       "      <td>1.792993</td>\n",
       "      <td>-0.863291</td>\n",
       "      <td>-0.010309</td>\n",
       "      <td>1.247203</td>\n",
       "      <td>0.237609</td>\n",
       "      <td>0.377436</td>\n",
       "      <td>-1.387024</td>\n",
       "      <td>...</td>\n",
       "      <td>-0.108300</td>\n",
       "      <td>0.005274</td>\n",
       "      <td>-0.190321</td>\n",
       "      <td>-1.175575</td>\n",
       "      <td>0.647376</td>\n",
       "      <td>-0.221929</td>\n",
       "      <td>0.062723</td>\n",
       "      <td>0.061458</td>\n",
       "      <td>123.50</td>\n",
       "      <td>0</td>\n",
       "    </tr>\n",
       "    <tr>\n",
       "      <th>4</th>\n",
       "      <td>2.0</td>\n",
       "      <td>-1.158233</td>\n",
       "      <td>0.877737</td>\n",
       "      <td>1.548718</td>\n",
       "      <td>0.403034</td>\n",
       "      <td>-0.407193</td>\n",
       "      <td>0.095921</td>\n",
       "      <td>0.592941</td>\n",
       "      <td>-0.270533</td>\n",
       "      <td>0.817739</td>\n",
       "      <td>...</td>\n",
       "      <td>-0.009431</td>\n",
       "      <td>0.798278</td>\n",
       "      <td>-0.137458</td>\n",
       "      <td>0.141267</td>\n",
       "      <td>-0.206010</td>\n",
       "      <td>0.502292</td>\n",
       "      <td>0.219422</td>\n",
       "      <td>0.215153</td>\n",
       "      <td>69.99</td>\n",
       "      <td>0</td>\n",
       "    </tr>\n",
       "  </tbody>\n",
       "</table>\n",
       "<p>5 rows × 31 columns</p>\n",
       "</div>"
      ],
      "text/plain": [
       "   Time        V1        V2        V3        V4        V5        V6        V7  \\\n",
       "0   0.0 -1.359807 -0.072781  2.536347  1.378155 -0.338321  0.462388  0.239599   \n",
       "1   0.0  1.191857  0.266151  0.166480  0.448154  0.060018 -0.082361 -0.078803   \n",
       "2   1.0 -1.358354 -1.340163  1.773209  0.379780 -0.503198  1.800499  0.791461   \n",
       "3   1.0 -0.966272 -0.185226  1.792993 -0.863291 -0.010309  1.247203  0.237609   \n",
       "4   2.0 -1.158233  0.877737  1.548718  0.403034 -0.407193  0.095921  0.592941   \n",
       "\n",
       "         V8        V9  ...       V21       V22       V23       V24       V25  \\\n",
       "0  0.098698  0.363787  ... -0.018307  0.277838 -0.110474  0.066928  0.128539   \n",
       "1  0.085102 -0.255425  ... -0.225775 -0.638672  0.101288 -0.339846  0.167170   \n",
       "2  0.247676 -1.514654  ...  0.247998  0.771679  0.909412 -0.689281 -0.327642   \n",
       "3  0.377436 -1.387024  ... -0.108300  0.005274 -0.190321 -1.175575  0.647376   \n",
       "4 -0.270533  0.817739  ... -0.009431  0.798278 -0.137458  0.141267 -0.206010   \n",
       "\n",
       "        V26       V27       V28  Amount  Class  \n",
       "0 -0.189115  0.133558 -0.021053  149.62      0  \n",
       "1  0.125895 -0.008983  0.014724    2.69      0  \n",
       "2 -0.139097 -0.055353 -0.059752  378.66      0  \n",
       "3 -0.221929  0.062723  0.061458  123.50      0  \n",
       "4  0.502292  0.219422  0.215153   69.99      0  \n",
       "\n",
       "[5 rows x 31 columns]"
      ]
     },
     "execution_count": 5,
     "metadata": {},
     "output_type": "execute_result"
    }
   ],
   "source": [
    "# Importing the data and displaying the first 5 rows\n",
    "\n",
    "df = pd.read_csv(\"c:\\creditcard.csv\")\n",
    "df.head()"
   ]
  },
  {
   "cell_type": "markdown",
   "metadata": {
    "id": "PHTBr-b1UJAS"
   },
   "source": [
    "Let's check for null values."
   ]
  },
  {
   "cell_type": "code",
   "execution_count": 6,
   "metadata": {
    "colab": {
     "base_uri": "https://localhost:8080/"
    },
    "id": "sM_zj61oMuuz",
    "outputId": "1a155b06-1171-42c7-e7fc-dc8b548a0840"
   },
   "outputs": [
    {
     "name": "stdout",
     "output_type": "stream",
     "text": [
      "Time      0\n",
      "V1        0\n",
      "V2        0\n",
      "V3        0\n",
      "V4        0\n",
      "V5        0\n",
      "V6        0\n",
      "V7        0\n",
      "V8        0\n",
      "V9        0\n",
      "V10       0\n",
      "V11       0\n",
      "V12       0\n",
      "V13       0\n",
      "V14       0\n",
      "V15       0\n",
      "V16       0\n",
      "V17       0\n",
      "V18       0\n",
      "V19       0\n",
      "V20       0\n",
      "V21       0\n",
      "V22       0\n",
      "V23       0\n",
      "V24       0\n",
      "V25       0\n",
      "V26       0\n",
      "V27       0\n",
      "V28       0\n",
      "Amount    0\n",
      "Class     0\n",
      "dtype: int64\n"
     ]
    }
   ],
   "source": [
    "# Checking for null data\n",
    "\n",
    "print(df.isna().sum())"
   ]
  },
  {
   "cell_type": "markdown",
   "metadata": {
    "id": "ncfZAOCuU7yU"
   },
   "source": [
    "There are no null values. Let's see the statiscal summary of all features."
   ]
  },
  {
   "cell_type": "code",
   "execution_count": 7,
   "metadata": {
    "colab": {
     "base_uri": "https://localhost:8080/",
     "height": 330
    },
    "id": "MPU1ulfdCLmp",
    "outputId": "b1636dc6-8737-40ab-8870-bc4eafdc3494"
   },
   "outputs": [
    {
     "data": {
      "text/html": [
       "<div>\n",
       "<style scoped>\n",
       "    .dataframe tbody tr th:only-of-type {\n",
       "        vertical-align: middle;\n",
       "    }\n",
       "\n",
       "    .dataframe tbody tr th {\n",
       "        vertical-align: top;\n",
       "    }\n",
       "\n",
       "    .dataframe thead th {\n",
       "        text-align: right;\n",
       "    }\n",
       "</style>\n",
       "<table border=\"1\" class=\"dataframe\">\n",
       "  <thead>\n",
       "    <tr style=\"text-align: right;\">\n",
       "      <th></th>\n",
       "      <th>Time</th>\n",
       "      <th>V1</th>\n",
       "      <th>V2</th>\n",
       "      <th>V3</th>\n",
       "      <th>V4</th>\n",
       "      <th>V5</th>\n",
       "      <th>V6</th>\n",
       "      <th>V7</th>\n",
       "      <th>V8</th>\n",
       "      <th>V9</th>\n",
       "      <th>...</th>\n",
       "      <th>V21</th>\n",
       "      <th>V22</th>\n",
       "      <th>V23</th>\n",
       "      <th>V24</th>\n",
       "      <th>V25</th>\n",
       "      <th>V26</th>\n",
       "      <th>V27</th>\n",
       "      <th>V28</th>\n",
       "      <th>Amount</th>\n",
       "      <th>Class</th>\n",
       "    </tr>\n",
       "  </thead>\n",
       "  <tbody>\n",
       "    <tr>\n",
       "      <th>count</th>\n",
       "      <td>284807.000000</td>\n",
       "      <td>2.848070e+05</td>\n",
       "      <td>2.848070e+05</td>\n",
       "      <td>2.848070e+05</td>\n",
       "      <td>2.848070e+05</td>\n",
       "      <td>2.848070e+05</td>\n",
       "      <td>2.848070e+05</td>\n",
       "      <td>2.848070e+05</td>\n",
       "      <td>2.848070e+05</td>\n",
       "      <td>2.848070e+05</td>\n",
       "      <td>...</td>\n",
       "      <td>2.848070e+05</td>\n",
       "      <td>2.848070e+05</td>\n",
       "      <td>2.848070e+05</td>\n",
       "      <td>2.848070e+05</td>\n",
       "      <td>2.848070e+05</td>\n",
       "      <td>2.848070e+05</td>\n",
       "      <td>2.848070e+05</td>\n",
       "      <td>2.848070e+05</td>\n",
       "      <td>284807.000000</td>\n",
       "      <td>284807.000000</td>\n",
       "    </tr>\n",
       "    <tr>\n",
       "      <th>mean</th>\n",
       "      <td>94813.859575</td>\n",
       "      <td>3.918649e-15</td>\n",
       "      <td>5.682686e-16</td>\n",
       "      <td>-8.761736e-15</td>\n",
       "      <td>2.811118e-15</td>\n",
       "      <td>-1.552103e-15</td>\n",
       "      <td>2.040130e-15</td>\n",
       "      <td>-1.698953e-15</td>\n",
       "      <td>-1.893285e-16</td>\n",
       "      <td>-3.147640e-15</td>\n",
       "      <td>...</td>\n",
       "      <td>1.473120e-16</td>\n",
       "      <td>8.042109e-16</td>\n",
       "      <td>5.282512e-16</td>\n",
       "      <td>4.456271e-15</td>\n",
       "      <td>1.426896e-15</td>\n",
       "      <td>1.701640e-15</td>\n",
       "      <td>-3.662252e-16</td>\n",
       "      <td>-1.217809e-16</td>\n",
       "      <td>88.349619</td>\n",
       "      <td>0.001727</td>\n",
       "    </tr>\n",
       "    <tr>\n",
       "      <th>std</th>\n",
       "      <td>47488.145955</td>\n",
       "      <td>1.958696e+00</td>\n",
       "      <td>1.651309e+00</td>\n",
       "      <td>1.516255e+00</td>\n",
       "      <td>1.415869e+00</td>\n",
       "      <td>1.380247e+00</td>\n",
       "      <td>1.332271e+00</td>\n",
       "      <td>1.237094e+00</td>\n",
       "      <td>1.194353e+00</td>\n",
       "      <td>1.098632e+00</td>\n",
       "      <td>...</td>\n",
       "      <td>7.345240e-01</td>\n",
       "      <td>7.257016e-01</td>\n",
       "      <td>6.244603e-01</td>\n",
       "      <td>6.056471e-01</td>\n",
       "      <td>5.212781e-01</td>\n",
       "      <td>4.822270e-01</td>\n",
       "      <td>4.036325e-01</td>\n",
       "      <td>3.300833e-01</td>\n",
       "      <td>250.120109</td>\n",
       "      <td>0.041527</td>\n",
       "    </tr>\n",
       "    <tr>\n",
       "      <th>min</th>\n",
       "      <td>0.000000</td>\n",
       "      <td>-5.640751e+01</td>\n",
       "      <td>-7.271573e+01</td>\n",
       "      <td>-4.832559e+01</td>\n",
       "      <td>-5.683171e+00</td>\n",
       "      <td>-1.137433e+02</td>\n",
       "      <td>-2.616051e+01</td>\n",
       "      <td>-4.355724e+01</td>\n",
       "      <td>-7.321672e+01</td>\n",
       "      <td>-1.343407e+01</td>\n",
       "      <td>...</td>\n",
       "      <td>-3.483038e+01</td>\n",
       "      <td>-1.093314e+01</td>\n",
       "      <td>-4.480774e+01</td>\n",
       "      <td>-2.836627e+00</td>\n",
       "      <td>-1.029540e+01</td>\n",
       "      <td>-2.604551e+00</td>\n",
       "      <td>-2.256568e+01</td>\n",
       "      <td>-1.543008e+01</td>\n",
       "      <td>0.000000</td>\n",
       "      <td>0.000000</td>\n",
       "    </tr>\n",
       "    <tr>\n",
       "      <th>25%</th>\n",
       "      <td>54201.500000</td>\n",
       "      <td>-9.203734e-01</td>\n",
       "      <td>-5.985499e-01</td>\n",
       "      <td>-8.903648e-01</td>\n",
       "      <td>-8.486401e-01</td>\n",
       "      <td>-6.915971e-01</td>\n",
       "      <td>-7.682956e-01</td>\n",
       "      <td>-5.540759e-01</td>\n",
       "      <td>-2.086297e-01</td>\n",
       "      <td>-6.430976e-01</td>\n",
       "      <td>...</td>\n",
       "      <td>-2.283949e-01</td>\n",
       "      <td>-5.423504e-01</td>\n",
       "      <td>-1.618463e-01</td>\n",
       "      <td>-3.545861e-01</td>\n",
       "      <td>-3.171451e-01</td>\n",
       "      <td>-3.269839e-01</td>\n",
       "      <td>-7.083953e-02</td>\n",
       "      <td>-5.295979e-02</td>\n",
       "      <td>5.600000</td>\n",
       "      <td>0.000000</td>\n",
       "    </tr>\n",
       "    <tr>\n",
       "      <th>50%</th>\n",
       "      <td>84692.000000</td>\n",
       "      <td>1.810880e-02</td>\n",
       "      <td>6.548556e-02</td>\n",
       "      <td>1.798463e-01</td>\n",
       "      <td>-1.984653e-02</td>\n",
       "      <td>-5.433583e-02</td>\n",
       "      <td>-2.741871e-01</td>\n",
       "      <td>4.010308e-02</td>\n",
       "      <td>2.235804e-02</td>\n",
       "      <td>-5.142873e-02</td>\n",
       "      <td>...</td>\n",
       "      <td>-2.945017e-02</td>\n",
       "      <td>6.781943e-03</td>\n",
       "      <td>-1.119293e-02</td>\n",
       "      <td>4.097606e-02</td>\n",
       "      <td>1.659350e-02</td>\n",
       "      <td>-5.213911e-02</td>\n",
       "      <td>1.342146e-03</td>\n",
       "      <td>1.124383e-02</td>\n",
       "      <td>22.000000</td>\n",
       "      <td>0.000000</td>\n",
       "    </tr>\n",
       "    <tr>\n",
       "      <th>75%</th>\n",
       "      <td>139320.500000</td>\n",
       "      <td>1.315642e+00</td>\n",
       "      <td>8.037239e-01</td>\n",
       "      <td>1.027196e+00</td>\n",
       "      <td>7.433413e-01</td>\n",
       "      <td>6.119264e-01</td>\n",
       "      <td>3.985649e-01</td>\n",
       "      <td>5.704361e-01</td>\n",
       "      <td>3.273459e-01</td>\n",
       "      <td>5.971390e-01</td>\n",
       "      <td>...</td>\n",
       "      <td>1.863772e-01</td>\n",
       "      <td>5.285536e-01</td>\n",
       "      <td>1.476421e-01</td>\n",
       "      <td>4.395266e-01</td>\n",
       "      <td>3.507156e-01</td>\n",
       "      <td>2.409522e-01</td>\n",
       "      <td>9.104512e-02</td>\n",
       "      <td>7.827995e-02</td>\n",
       "      <td>77.165000</td>\n",
       "      <td>0.000000</td>\n",
       "    </tr>\n",
       "    <tr>\n",
       "      <th>max</th>\n",
       "      <td>172792.000000</td>\n",
       "      <td>2.454930e+00</td>\n",
       "      <td>2.205773e+01</td>\n",
       "      <td>9.382558e+00</td>\n",
       "      <td>1.687534e+01</td>\n",
       "      <td>3.480167e+01</td>\n",
       "      <td>7.330163e+01</td>\n",
       "      <td>1.205895e+02</td>\n",
       "      <td>2.000721e+01</td>\n",
       "      <td>1.559499e+01</td>\n",
       "      <td>...</td>\n",
       "      <td>2.720284e+01</td>\n",
       "      <td>1.050309e+01</td>\n",
       "      <td>2.252841e+01</td>\n",
       "      <td>4.584549e+00</td>\n",
       "      <td>7.519589e+00</td>\n",
       "      <td>3.517346e+00</td>\n",
       "      <td>3.161220e+01</td>\n",
       "      <td>3.384781e+01</td>\n",
       "      <td>25691.160000</td>\n",
       "      <td>1.000000</td>\n",
       "    </tr>\n",
       "  </tbody>\n",
       "</table>\n",
       "<p>8 rows × 31 columns</p>\n",
       "</div>"
      ],
      "text/plain": [
       "                Time            V1            V2            V3            V4  \\\n",
       "count  284807.000000  2.848070e+05  2.848070e+05  2.848070e+05  2.848070e+05   \n",
       "mean    94813.859575  3.918649e-15  5.682686e-16 -8.761736e-15  2.811118e-15   \n",
       "std     47488.145955  1.958696e+00  1.651309e+00  1.516255e+00  1.415869e+00   \n",
       "min         0.000000 -5.640751e+01 -7.271573e+01 -4.832559e+01 -5.683171e+00   \n",
       "25%     54201.500000 -9.203734e-01 -5.985499e-01 -8.903648e-01 -8.486401e-01   \n",
       "50%     84692.000000  1.810880e-02  6.548556e-02  1.798463e-01 -1.984653e-02   \n",
       "75%    139320.500000  1.315642e+00  8.037239e-01  1.027196e+00  7.433413e-01   \n",
       "max    172792.000000  2.454930e+00  2.205773e+01  9.382558e+00  1.687534e+01   \n",
       "\n",
       "                 V5            V6            V7            V8            V9  \\\n",
       "count  2.848070e+05  2.848070e+05  2.848070e+05  2.848070e+05  2.848070e+05   \n",
       "mean  -1.552103e-15  2.040130e-15 -1.698953e-15 -1.893285e-16 -3.147640e-15   \n",
       "std    1.380247e+00  1.332271e+00  1.237094e+00  1.194353e+00  1.098632e+00   \n",
       "min   -1.137433e+02 -2.616051e+01 -4.355724e+01 -7.321672e+01 -1.343407e+01   \n",
       "25%   -6.915971e-01 -7.682956e-01 -5.540759e-01 -2.086297e-01 -6.430976e-01   \n",
       "50%   -5.433583e-02 -2.741871e-01  4.010308e-02  2.235804e-02 -5.142873e-02   \n",
       "75%    6.119264e-01  3.985649e-01  5.704361e-01  3.273459e-01  5.971390e-01   \n",
       "max    3.480167e+01  7.330163e+01  1.205895e+02  2.000721e+01  1.559499e+01   \n",
       "\n",
       "       ...           V21           V22           V23           V24  \\\n",
       "count  ...  2.848070e+05  2.848070e+05  2.848070e+05  2.848070e+05   \n",
       "mean   ...  1.473120e-16  8.042109e-16  5.282512e-16  4.456271e-15   \n",
       "std    ...  7.345240e-01  7.257016e-01  6.244603e-01  6.056471e-01   \n",
       "min    ... -3.483038e+01 -1.093314e+01 -4.480774e+01 -2.836627e+00   \n",
       "25%    ... -2.283949e-01 -5.423504e-01 -1.618463e-01 -3.545861e-01   \n",
       "50%    ... -2.945017e-02  6.781943e-03 -1.119293e-02  4.097606e-02   \n",
       "75%    ...  1.863772e-01  5.285536e-01  1.476421e-01  4.395266e-01   \n",
       "max    ...  2.720284e+01  1.050309e+01  2.252841e+01  4.584549e+00   \n",
       "\n",
       "                V25           V26           V27           V28         Amount  \\\n",
       "count  2.848070e+05  2.848070e+05  2.848070e+05  2.848070e+05  284807.000000   \n",
       "mean   1.426896e-15  1.701640e-15 -3.662252e-16 -1.217809e-16      88.349619   \n",
       "std    5.212781e-01  4.822270e-01  4.036325e-01  3.300833e-01     250.120109   \n",
       "min   -1.029540e+01 -2.604551e+00 -2.256568e+01 -1.543008e+01       0.000000   \n",
       "25%   -3.171451e-01 -3.269839e-01 -7.083953e-02 -5.295979e-02       5.600000   \n",
       "50%    1.659350e-02 -5.213911e-02  1.342146e-03  1.124383e-02      22.000000   \n",
       "75%    3.507156e-01  2.409522e-01  9.104512e-02  7.827995e-02      77.165000   \n",
       "max    7.519589e+00  3.517346e+00  3.161220e+01  3.384781e+01   25691.160000   \n",
       "\n",
       "               Class  \n",
       "count  284807.000000  \n",
       "mean        0.001727  \n",
       "std         0.041527  \n",
       "min         0.000000  \n",
       "25%         0.000000  \n",
       "50%         0.000000  \n",
       "75%         0.000000  \n",
       "max         1.000000  \n",
       "\n",
       "[8 rows x 31 columns]"
      ]
     },
     "execution_count": 7,
     "metadata": {},
     "output_type": "execute_result"
    }
   ],
   "source": [
    "# Displaying main statistics\n",
    "\n",
    "df.describe()"
   ]
  },
  {
   "cell_type": "markdown",
   "metadata": {
    "id": "_nNzHLfsCzIA"
   },
   "source": [
    "We can see that all the features except for \"Time\", \"Amount\" and \"Class\" are normalized since all the data is encrypted. \n",
    "\n",
    "Now, let's check for the total number transactions and which ones are fraud and non-fraud."
   ]
  },
  {
   "cell_type": "code",
   "execution_count": 8,
   "metadata": {
    "colab": {
     "base_uri": "https://localhost:8080/"
    },
    "id": "zgXwJk2REei7",
    "outputId": "3081e6db-36df-465b-bde4-5d89858f7df2"
   },
   "outputs": [
    {
     "name": "stdout",
     "output_type": "stream",
     "text": [
      "Total transactions:  284807\n",
      "Number of frauds:  492\n",
      "Number of non-frauds:  284315\n"
     ]
    }
   ],
   "source": [
    "# Printing the number of frauds and non-frauds\n",
    "\n",
    "number_transactions = df['Class'].count()\n",
    "number_frauds = df['Class'].sum()\n",
    "number_non_frauds = number_transactions - number_frauds\n",
    "\n",
    "print(\"Total transactions: \", number_transactions)\n",
    "print(\"Number of frauds: \", number_frauds)\n",
    "print(\"Number of non-frauds: \", number_non_frauds)"
   ]
  },
  {
   "cell_type": "markdown",
   "metadata": {
    "id": "FDdOwfn5DK4N"
   },
   "source": [
    "We can see that our dataset is imbalanced due to the low number of fraudulent transactions (0.17%). This will be important later on when we build our model. We are going to guarantee that the test dataset has records classified as a fraud to train our model correctly."
   ]
  },
  {
   "cell_type": "markdown",
   "metadata": {
    "id": "JACxtWT9B4Pf"
   },
   "source": [
    "# Building the model"
   ]
  },
  {
   "cell_type": "markdown",
   "metadata": {
    "id": "8aQhxXZiB8CV"
   },
   "source": [
    "Now we can build our model using the StratifiedShuffleSplit method from sklearn to ensure that we will have fraudulent transactions in our model. Otherwise, may be a risk of, when the code is splitting the data, it ends up with a training set without any fraud which is hazardous to our model. "
   ]
  },
  {
   "cell_type": "code",
   "execution_count": 9,
   "metadata": {
    "id": "ErGjdLatLMyy"
   },
   "outputs": [],
   "source": [
    "# Splitting the data\n",
    "\n",
    "X = df.drop('Class', axis=1).values\n",
    "y = df['Class'].values\n",
    "X_train, X_test, y_train, y_test = validator_stratified_shuffle_split(X, y)"
   ]
  },
  {
   "cell_type": "code",
   "execution_count": 11,
   "metadata": {
    "colab": {
     "base_uri": "https://localhost:8080/"
    },
    "id": "Fh_M-NVrO2lc",
    "outputId": "5c32b53a-3f97-43c9-8924-172fd310bd85"
   },
   "outputs": [
    {
     "name": "stdout",
     "output_type": "stream",
     "text": [
      "Wall time: 0 ns\n"
     ]
    }
   ],
   "source": [
    "# Running decision tree model\n",
    "\n",
    "%time\n",
    "\n",
    "decision_tree = tree.DecisionTreeClassifier()\n",
    "y_pred_decision_tree = run_model(decision_tree, X_train, X_test, y_train)"
   ]
  },
  {
   "cell_type": "code",
   "execution_count": 12,
   "metadata": {
    "colab": {
     "base_uri": "https://localhost:8080/",
     "height": 415
    },
    "id": "FNBBsD9Vqf_2",
    "outputId": "b987dc87-ed2e-4984-eb9a-cae753408ae0"
   },
   "outputs": [
    {
     "name": "stdout",
     "output_type": "stream",
     "text": [
      "Accuracy score:  0.9990871107053826\n",
      "Precision score:  0.7446808510638298\n",
      "Recall score:  0.7142857142857143\n"
     ]
    },
    {
     "data": {
      "image/png": "[encoded data removed]",
      "text/plain": [
       "<Figure size 432x288 with 2 Axes>"
      ]
     },
     "metadata": {
      "needs_background": "light"
     },
     "output_type": "display_data"
    }
   ],
   "source": [
    "# Displaying the model's score\n",
    "\n",
    "validation_scores(y_test, y_pred_decision_tree)\n",
    "\n",
    "# Computing confusion matrix\n",
    "\n",
    "plot_confusion_matrix(y_test, y_pred_decision_tree)\n",
    "np.set_printoptions(precision=2)"
   ]
  },
  {
   "cell_type": "markdown",
   "metadata": {
    "id": "1E18Ns-FQ-d3"
   },
   "source": [
    "We can see that our accuracy is high due to the unbalanced data, on the other hand, precision and recall have average scores, around 0.7 each. Looking at the confusion matrix, we see that have 16 false negatives and 14 false positives. \n",
    "\n",
    "Since we are dealing with credit card transactions, our model needs enhancement for two reasons:\n",
    "\n",
    "1. reduce the number of false positives because a lot of clients will be affected and their relationship with the bank could be damaged, leading to loss of clients.\n",
    "\n",
    "2. reduce the number of false negatives because a lot of fraudulent transactions will be approved and the bank will lose money by having their operation stopped and have a damaged reputation.\n",
    "\n",
    "So, we need to improve the model's performance. First, let's look at the maximum depth of our tree. Remembering that the deeper our tree is the higher chances of overfitting we will have.  "
   ]
  },
  {
   "cell_type": "code",
   "execution_count": 13,
   "metadata": {
    "colab": {
     "base_uri": "https://localhost:8080/"
    },
    "id": "QGY4IhuQ6I1I",
    "outputId": "c8c5dc4f-958f-4a2d-ad04-64a974e662c7"
   },
   "outputs": [
    {
     "name": "stdout",
     "output_type": "stream",
     "text": [
      "21\n"
     ]
    }
   ],
   "source": [
    "# Printing max_depth\n",
    "\n",
    "print(decision_tree.get_depth())"
   ]
  },
  {
   "cell_type": "markdown",
   "metadata": {
    "id": "q9edboGH5nZ_"
   },
   "source": [
    "Our decision tree has a maximum depth of 21, which is a lot. Let's limit it to 10 to avoid overfitting and see if the model will have a better performance."
   ]
  },
  {
   "cell_type": "code",
   "execution_count": 14,
   "metadata": {
    "colab": {
     "base_uri": "https://localhost:8080/"
    },
    "id": "35qhelAb6uC8",
    "outputId": "591d319f-e4c3-4c22-954b-d31ab16ab49c"
   },
   "outputs": [
    {
     "name": "stdout",
     "output_type": "stream",
     "text": [
      "Wall time: 0 ns\n"
     ]
    }
   ],
   "source": [
    "# Running DecisionTreeClassifier\n",
    "\n",
    "%time\n",
    "\n",
    "decision_tree_ten = tree.DecisionTreeClassifier(max_depth=10, random_state=0)\n",
    "y_pred_decision_tree = run_model(decision_tree_ten, X_train, X_test, y_train)"
   ]
  },
  {
   "cell_type": "code",
   "execution_count": 15,
   "metadata": {
    "colab": {
     "base_uri": "https://localhost:8080/",
     "height": 415
    },
    "id": "mNFTMFjJ65O_",
    "outputId": "93b3ea72-a301-41ab-973e-b64d18a7c069"
   },
   "outputs": [
    {
     "name": "stdout",
     "output_type": "stream",
     "text": [
      "Accuracy score:  0.9994733330992591\n",
      "Precision score:  0.9473684210526315\n",
      "Recall score:  0.7346938775510204\n"
     ]
    },
    {
     "data": {
      "image/png": "[encoded data removed]",
      "text/plain": [
       "<Figure size 432x288 with 2 Axes>"
      ]
     },
     "metadata": {
      "needs_background": "light"
     },
     "output_type": "display_data"
    }
   ],
   "source": [
    "# Displaying the model's score\n",
    "\n",
    "validation_scores(y_test, y_pred_decision_tree)\n",
    "\n",
    "# Computing confusion matrix\n",
    "\n",
    "plot_confusion_matrix(y_test, y_pred_decision_tree)\n",
    "np.set_printoptions(precision=2)"
   ]
  },
  {
   "cell_type": "markdown",
   "metadata": {
    "id": "moAjUDepYBxT"
   },
   "source": [
    "The precision increased a lot because the model was able to decrease the number of false positives. But the recall score is similar to the previous decision tree. Let's change another decision tree parameter. This time we are going to limit the minimum samples in each leaf to 10, in other words, if any leaf has less than 10 records, there will be no more decisions to take and the tree will not get deeper."
   ]
  },
  {
   "cell_type": "code",
   "execution_count": 16,
   "metadata": {
    "colab": {
     "base_uri": "https://localhost:8080/"
    },
    "id": "8-6271ld7HzJ",
    "outputId": "b24edb2f-117d-4446-ef63-001334907191"
   },
   "outputs": [
    {
     "name": "stdout",
     "output_type": "stream",
     "text": [
      "Wall time: 0 ns\n"
     ]
    }
   ],
   "source": [
    "# Rnning DecisionTreeClassifier with limited min_samples_leaf \n",
    "\n",
    "%time\n",
    "\n",
    "decision_tree_leaf = tree.DecisionTreeClassifier(max_depth=10, random_state=0, min_samples_leaf=10)\n",
    "y_pred_decision_tree = run_model(decision_tree_leaf, X_train, X_test, y_train)"
   ]
  },
  {
   "cell_type": "code",
   "execution_count": 17,
   "metadata": {
    "colab": {
     "base_uri": "https://localhost:8080/",
     "height": 415
    },
    "id": "4AD1ip2T7QzQ",
    "outputId": "12e0c004-368e-429b-feb2-bacc007a7d1d"
   },
   "outputs": [
    {
     "name": "stdout",
     "output_type": "stream",
     "text": [
      "Accuracy score:  0.9993679997191109\n",
      "Precision score:  0.8604651162790697\n",
      "Recall score:  0.7551020408163265\n"
     ]
    },
    {
     "data": {
      "image/png": "[encoded data removed]",
      "text/plain": [
       "<Figure size 432x288 with 2 Axes>"
      ]
     },
     "metadata": {
      "needs_background": "light"
     },
     "output_type": "display_data"
    }
   ],
   "source": [
    "# Displaying the model's score\n",
    "\n",
    "validation_scores(y_test, y_pred_decision_tree)\n",
    "\n",
    "# Computing confusion matrix\n",
    "\n",
    "plot_confusion_matrix(y_test, y_pred_decision_tree)\n",
    "np.set_printoptions(precision=2)"
   ]
  },
  {
   "cell_type": "markdown",
   "metadata": {
    "id": "5zNjxKBGZmty"
   },
   "source": [
    "This time the precision got worse and the recall score changed slightly but in general, this model did not go well. \n",
    "\n",
    "Since we limited our tree to the maximum depth of 10 and it got better results. Let's see if a simpler model with a maximum depth of 5 will be better. "
   ]
  },
  {
   "cell_type": "code",
   "execution_count": 18,
   "metadata": {
    "colab": {
     "base_uri": "https://localhost:8080/"
    },
    "id": "8thhDKUUQrRS",
    "outputId": "5cd87101-9dc3-4f72-dd1e-03cc3a1f878d"
   },
   "outputs": [
    {
     "name": "stdout",
     "output_type": "stream",
     "text": [
      "Wall time: 0 ns\n"
     ]
    }
   ],
   "source": [
    "# Rnning DecisionTreeClassifier with max depth of 5\n",
    "\n",
    "%time\n",
    "\n",
    "decision_tree_five= tree.DecisionTreeClassifier(max_depth=5, random_state=0)\n",
    "y_pred_decision_tree = run_model(decision_tree_five, X_train, X_test, y_train)"
   ]
  },
  {
   "cell_type": "code",
   "execution_count": 19,
   "metadata": {
    "colab": {
     "base_uri": "https://localhost:8080/",
     "height": 415
    },
    "id": "QWLKQ5FIQwhx",
    "outputId": "fb164b79-8a98-4b6b-854c-1c172455b0c3"
   },
   "outputs": [
    {
     "name": "stdout",
     "output_type": "stream",
     "text": [
      "Accuracy score:  0.999403110845827\n",
      "Precision score:  0.9210526315789473\n",
      "Recall score:  0.7142857142857143\n"
     ]
    },
    {
     "data": {
      "image/png": "[encoded data removed]",
      "text/plain": [
       "<Figure size 432x288 with 2 Axes>"
      ]
     },
     "metadata": {
      "needs_background": "light"
     },
     "output_type": "display_data"
    }
   ],
   "source": [
    "# Displaying the model's score\n",
    "\n",
    "validation_scores(y_test, y_pred_decision_tree)\n",
    "\n",
    "# Computing confusion matrix\n",
    "\n",
    "plot_confusion_matrix(y_test, y_pred_decision_tree)\n",
    "np.set_printoptions(precision=2)"
   ]
  },
  {
   "cell_type": "markdown",
   "metadata": {
    "id": "nl_jNTL3bcyH"
   },
   "source": [
    "We can see that the score did not perform better than the decision tree with a maximum depth of 10. Since single decision trees seem to get stuck in terms of score and performance, let's use ensemble learning to improve our models."
   ]
  },
  {
   "cell_type": "markdown",
   "metadata": {
    "id": "jfB_F0PucP_Y"
   },
   "source": [
    "# Emsemble learning: bagging"
   ]
  },
  {
   "cell_type": "markdown",
   "metadata": {
    "id": "QvsAwtVdc1pr"
   },
   "source": [
    "Since our decision tree model has lots of false positives and false negatives, our anti-fraud detection system has its gaps to fill. To enhance the chances of stopping the fraudulent transactions and letting the non-fraudulent ones intact, we will use an ensemble learning technique called bagging i.e. *bootstrapping aggregating*. *Bootstrapping* is a population resampling, in many subsamples, in a way that the main characteristics are maintained and they have to be independent of each other. Then we will create a model using each of these subsamples and then aggregate all the outcomes in one metric (sum, mean, etc). The most well-known bagging algorithm is Random Forest, which I will use from now on.\n",
    "\n",
    "Randon forest creates several estimators, i.e. simple decision trees, using subsamples of the original data and some, not all, features to train the algorithm. Those records not used in a determined decision tree (out-of-bag data) will be labeled as True or False. After all the algorithms are finished, the outcome of all records will be set as the most \"voted\" outcome of all algorithms. \n",
    "\n",
    "We will also check the running time of all models plus their scores to decide which one is the best."
   ]
  },
  {
   "cell_type": "code",
   "execution_count": 20,
   "metadata": {
    "colab": {
     "base_uri": "https://localhost:8080/"
    },
    "id": "UidGu_ek37DN",
    "outputId": "7a11fe20-4d42-4d7e-8391-8e859f1d5598"
   },
   "outputs": [
    {
     "name": "stdout",
     "output_type": "stream",
     "text": [
      "Wall time: 0 ns\n"
     ]
    }
   ],
   "source": [
    "# Running random forest model for 100 estimators \n",
    "\n",
    "%time\n",
    "\n",
    "random_forest = RandomForestClassifier(n_estimators=100, random_state=0)\n",
    "y_pred_random_forest = run_model(random_forest, X_train, X_test, y_train)"
   ]
  },
  {
   "cell_type": "code",
   "execution_count": 21,
   "metadata": {
    "colab": {
     "base_uri": "https://localhost:8080/",
     "height": 415
    },
    "id": "vHN_wutJ6tH2",
    "outputId": "f1d4ae36-c6d2-43a3-ebbc-1e48c04e23cb"
   },
   "outputs": [
    {
     "name": "stdout",
     "output_type": "stream",
     "text": [
      "Accuracy score:  0.9995084442259752\n",
      "Precision score:  0.9487179487179487\n",
      "Recall score:  0.7551020408163265\n"
     ]
    },
    {
     "data": {
      "image/png": "[encoded data removed]",
      "text/plain": [
       "<Figure size 432x288 with 2 Axes>"
      ]
     },
     "metadata": {
      "needs_background": "light"
     },
     "output_type": "display_data"
    }
   ],
   "source": [
    "# Displaying the model's score\n",
    "\n",
    "validation_scores(y_test, y_pred_random_forest)\n",
    "\n",
    "# Computing confusion matrix\n",
    "\n",
    "plot_confusion_matrix(y_test, y_pred_random_forest)\n",
    "np.set_printoptions(precision=2)"
   ]
  },
  {
   "cell_type": "markdown",
   "metadata": {
    "id": "203lsrXqhsbf"
   },
   "source": [
    "The random forest algorithm had a similar performance compared to our maximum-depth-of-10 decision tree but it took a lot more to run. Let's change the number of estimators i.e. number of single decision trees, to 50 and set the max_depth parameter to 10, and see the time to run and the scores."
   ]
  },
  {
   "cell_type": "code",
   "execution_count": 22,
   "metadata": {
    "colab": {
     "base_uri": "https://localhost:8080/"
    },
    "id": "DnZ2WD687Bxp",
    "outputId": "33a034aa-6bf4-4403-9c5b-3740ebd32c6a"
   },
   "outputs": [
    {
     "name": "stdout",
     "output_type": "stream",
     "text": [
      "Wall time: 0 ns\n"
     ]
    }
   ],
   "source": [
    "# Running random forest model for 50 estimators \n",
    "\n",
    "%time\n",
    "\n",
    "random_forest = RandomForestClassifier(n_estimators=50, random_state=0, max_depth=10)\n",
    "y_pred_random_forest = run_model(random_forest, X_train, X_test, y_train)"
   ]
  },
  {
   "cell_type": "code",
   "execution_count": 23,
   "metadata": {
    "colab": {
     "base_uri": "https://localhost:8080/",
     "height": 415
    },
    "id": "wUGM-S2Y71nX",
    "outputId": "2866938e-2bf6-468f-913c-b76134906277"
   },
   "outputs": [
    {
     "name": "stdout",
     "output_type": "stream",
     "text": [
      "Accuracy score:  0.9995435553526912\n",
      "Precision score:  0.9736842105263158\n",
      "Recall score:  0.7551020408163265\n"
     ]
    },
    {
     "data": {
      "image/png": "[encoded data removed]",
      "text/plain": [
       "<Figure size 432x288 with 2 Axes>"
      ]
     },
     "metadata": {
      "needs_background": "light"
     },
     "output_type": "display_data"
    }
   ],
   "source": [
    "# Displaying the model's score\n",
    "\n",
    "validation_scores(y_test, y_pred_random_forest)\n",
    "\n",
    "# Computing confusion matrix\n",
    "\n",
    "plot_confusion_matrix(y_test, y_pred_random_forest)\n",
    "np.set_printoptions(precision=2)"
   ]
  },
  {
   "cell_type": "markdown",
   "metadata": {
    "id": "1-jIPvWNjxOx"
   },
   "source": [
    "This time, the algorithm was two times faster, but only the precision score improved. Let's change our approach for this problem and use another ensemble learning technique, boosting."
   ]
  },
  {
   "cell_type": "markdown",
   "metadata": {
    "id": "WBCz_9uYkZ2z"
   },
   "source": [
    "# Ensemble learning: boosting"
   ]
  },
  {
   "cell_type": "markdown",
   "metadata": {
    "id": "N7n-voLmkcQG"
   },
   "source": [
    "Unlike bagging, boosting technique creates dependent and sequential models. One of the most famous boosting algorithms is AdaBoost, i.e. adaptative boosting. Every following model will correct the mistakes in the previous model and so on. That's why we call it adaptative.  \n",
    "\n",
    "But how does this AdaBoost work?\n",
    "\n",
    "1. The algorithm will label every record in our dataset with equal weights (1/total number of records). Then, it builds simple decision trees based on only one dataset feature at a time with all rows.  \n",
    "\n",
    "2. The algorithm choose randomly a tree and it calculates its influence over the other decision trees using the following formula: $\\alpha = \\frac{1}{2}log(\\frac{1 - error}{error})$, where error is calculated by: $error = \\frac{\\text{records wrongly labeled}}{\\text{all the records}}$. $\\alpha$ can assume positive and negative values but the larger the number is the more influence in the following tree our decision tree will have.\n",
    "\n",
    "3. Change the original weight of every record, using the following formula: $w_{i} = w_{i-1}*e^{\\pm \\alpha}$, where $w_{i}$ is the new record weight and $w_{i-1}$ is the previous record weight. When the record is wrongly labeled, it uses the + because we need to improve its weight to correct the label in the next iteration. Otherwise, i.e. when the record is correctly labeled, then we use the - because this record is already done and the algorithm needs to focus on the wrong ones. \n",
    "\n",
    "4. Set the interval by adding the weight of a record and the following record. Then, the algorithm will pick n random number between 0 and the sum of the last row's weight, creating a new dataset with its original number of rows. This dataset may contain duplicated records. \n",
    "\n",
    "5. Set equal weights again in the new dataset and then start the process all over again. \n",
    "\n",
    "Now let's instantiate our model. "
   ]
  },
  {
   "cell_type": "code",
   "execution_count": 24,
   "metadata": {
    "colab": {
     "base_uri": "https://localhost:8080/"
    },
    "id": "1OVHfq-4Zy7P",
    "outputId": "7ef757a2-4cc8-420a-9466-78bce9ed3d7d"
   },
   "outputs": [
    {
     "name": "stdout",
     "output_type": "stream",
     "text": [
      "Wall time: 0 ns\n"
     ]
    }
   ],
   "source": [
    "# Running AdaBoost model \n",
    "\n",
    "%time\n",
    "\n",
    "adaboost = AdaBoostClassifier(random_state=0)\n",
    "y_pred_adaboost = run_model(adaboost, X_train, X_test, y_train)"
   ]
  },
  {
   "cell_type": "code",
   "execution_count": 25,
   "metadata": {
    "colab": {
     "base_uri": "https://localhost:8080/",
     "height": 415
    },
    "id": "9lsK4GIHaQQI",
    "outputId": "7b4e49dd-e1b9-4759-ea08-a8de0a5e036f"
   },
   "outputs": [
    {
     "name": "stdout",
     "output_type": "stream",
     "text": [
      "Accuracy score:  0.9992626663389628\n",
      "Precision score:  0.8888888888888888\n",
      "Recall score:  0.6530612244897959\n"
     ]
    },
    {
     "data": {
      "image/png": "[encoded data removed]",
      "text/plain": [
       "<Figure size 432x288 with 2 Axes>"
      ]
     },
     "metadata": {
      "needs_background": "light"
     },
     "output_type": "display_data"
    }
   ],
   "source": [
    "# Displaying the model's score\n",
    "\n",
    "validation_scores(y_test, y_pred_adaboost)\n",
    "\n",
    "# Computing confusion matrix\n",
    "\n",
    "plot_confusion_matrix(y_test, y_pred_adaboost)\n",
    "np.set_printoptions(precision=2)"
   ]
  },
  {
   "cell_type": "markdown",
   "metadata": {
    "id": "nUVVteARl-i8"
   },
   "source": [
    "Even with adaptative boosting, we did not improve our model. Reading the sklearn documentation, we can see that, by default, the number of estimators is 50. Let's raise this parameter to 100 and see what happens. "
   ]
  },
  {
   "cell_type": "code",
   "execution_count": 26,
   "metadata": {
    "colab": {
     "base_uri": "https://localhost:8080/"
    },
    "id": "8DEkAjURbW8Y",
    "outputId": "cb43e957-1733-416a-c058-3ab77144d38f"
   },
   "outputs": [
    {
     "name": "stdout",
     "output_type": "stream",
     "text": [
      "Wall time: 0 ns\n"
     ]
    }
   ],
   "source": [
    "# Running AdaBoost model for 100 estimators\n",
    "\n",
    "%time\n",
    "\n",
    "adaboost = AdaBoostClassifier(random_state=0, n_estimators=100)\n",
    "y_pred_adaboost = run_model(adaboost, X_train, X_test, y_train)"
   ]
  },
  {
   "cell_type": "code",
   "execution_count": 27,
   "metadata": {
    "colab": {
     "base_uri": "https://localhost:8080/",
     "height": 415
    },
    "id": "ksWdzcabbgSO",
    "outputId": "d0239684-c592-44e4-bd99-f151a4677e31"
   },
   "outputs": [
    {
     "name": "stdout",
     "output_type": "stream",
     "text": [
      "Accuracy score:  0.999403110845827\n",
      "Precision score:  0.8636363636363636\n",
      "Recall score:  0.7755102040816326\n"
     ]
    },
    {
     "data": {
      "image/png": "[encoded data removed]",
      "text/plain": [
       "<Figure size 432x288 with 2 Axes>"
      ]
     },
     "metadata": {
      "needs_background": "light"
     },
     "output_type": "display_data"
    }
   ],
   "source": [
    "# Displaying the model's score\n",
    "\n",
    "validation_scores(y_test, y_pred_adaboost)\n",
    "\n",
    "# Computing confusion matrix\n",
    "\n",
    "plot_confusion_matrix(y_test, y_pred_adaboost)\n",
    "np.set_printoptions(precision=2)"
   ]
  },
  {
   "cell_type": "markdown",
   "metadata": {
    "id": "iMQE32VsbrUh"
   },
   "source": [
    "Only the recall score improved, and the precision got stuck. Let's increase even more the number of estimators to 200."
   ]
  },
  {
   "cell_type": "code",
   "execution_count": 28,
   "metadata": {
    "colab": {
     "base_uri": "https://localhost:8080/"
    },
    "id": "9-kFn_ogch7H",
    "outputId": "b6245f6c-6cc2-4085-faeb-6fb921dd39ae"
   },
   "outputs": [
    {
     "name": "stdout",
     "output_type": "stream",
     "text": [
      "Wall time: 0 ns\n"
     ]
    }
   ],
   "source": [
    "# Running AdaBoost model for 200 estimators\n",
    "\n",
    "%time\n",
    "\n",
    "adaboost = AdaBoostClassifier(random_state=0, n_estimators=200)\n",
    "y_pred_adaboost = run_model(adaboost, X_train, X_test, y_train)"
   ]
  },
  {
   "cell_type": "code",
   "execution_count": 29,
   "metadata": {
    "colab": {
     "base_uri": "https://localhost:8080/",
     "height": 415
    },
    "id": "szcAYDjbciq5",
    "outputId": "55846ed2-20e1-4c14-fd6f-a9def606cc8d"
   },
   "outputs": [
    {
     "name": "stdout",
     "output_type": "stream",
     "text": [
      "Accuracy score:  0.9995435553526912\n",
      "Precision score:  0.9285714285714286\n",
      "Recall score:  0.7959183673469388\n"
     ]
    },
    {
     "data": {
      "image/png": "[encoded data removed]",
      "text/plain": [
       "<Figure size 432x288 with 2 Axes>"
      ]
     },
     "metadata": {
      "needs_background": "light"
     },
     "output_type": "display_data"
    }
   ],
   "source": [
    "# Displaying the model's score\n",
    "\n",
    "validation_scores(y_test, y_pred_adaboost)\n",
    "\n",
    "# Computing confusion matrix\n",
    "\n",
    "plot_confusion_matrix(y_test, y_pred_adaboost)\n",
    "np.set_printoptions(precision=2)"
   ]
  },
  {
   "cell_type": "markdown",
   "metadata": {
    "id": "v5-Y1H8KkUYZ"
   },
   "source": [
    "# Score compilation"
   ]
  },
  {
   "cell_type": "markdown",
   "metadata": {
    "id": "2DM0McUOkadD"
   },
   "source": [
    "|MODEL|PRECISION|RECALL|FALSE NEGATIVES|FALSE POSITIVES|TIME (s)|\n",
    "|-----|---------|------|---------------|---------------|----|\n",
    "|Decision tree|0.729|0.714|14|13|27.0|\n",
    "|Decision tree max depth of 10|0.947|0.735|13|2|16.3|\n",
    "|Decision tree min samples leaf of 10|0.861|0.755|12|6|16.7|\n",
    "|Decision tree max depth of 5|0.921|0.714|14|3|9.5|\n",
    "|Random forest|0.949|0.755|12|2|327.0|\n",
    "|Random forest 50 estimators & max depth of 10|0.974|0.755|12|1|97.0|\n",
    "|AdaBoost 50 estimators|0.888|0.653|17|4|96.0|\n",
    "|AdaBoost 100 estimators|0.864|0.776|11|6|189.0|\n",
    "|AdaBoost 200 estimators|0.929|0.780|10|3|377.0|"
   ]
  },
  {
   "cell_type": "markdown",
   "metadata": {
    "id": "H1PPoILUi9zy"
   },
   "source": [
    "We can see that 2 out of 9 models were the best in terms of score: **random forest with 50 estimators & max depth of 10** and **AdaBoost with 200 estimators**. But the latter took approximately 4 times to run and since it is using lots of estimators, its good results are probably due to overfitting, which is not good. Recalling that our dataset has a couple of hundred thousand records, which is an infamous part of the total credit card transactions per day. In other words, this model is not scalable. So, the best model including time-consuming parameters is the former one."
   ]
  },
  {
   "cell_type": "markdown",
   "metadata": {
    "id": "6zP2MdZRpF33"
   },
   "source": [
    "# Recommendations"
   ]
  },
  {
   "cell_type": "markdown",
   "metadata": {
    "id": "ViEVg6EqpKNA"
   },
   "source": [
    "It is impossible to build a model that can detect which transactions are fraudulent or not. And our random forest algorithm had a few false positives and false negatives remaining, more the latter than the former one.\n",
    "\n",
    "Adopting this model as the default one to prevent and detect credit card fraud, the company will expect some cardholders' phone calls asking why their transactions could not be approved. This could lead to loss of clients (and revenue) and somewhat reputation damage. In case of undetected frauds, we could draw some action plans such as:\n",
    "\n",
    "  i) reimbursed them as fast as possible, to repair the client's eventual monetary damage;\n",
    "  \n",
    "  ii) give discounts on future credit card purchases;\n",
    "\n",
    "  iii) ensure that the company has active plans to increase credit card transaction security."
   ]
  }
 ],
 "metadata": {
  "colab": {
   "collapsed_sections": [],
   "name": "credit_card_fraud_detection.ipynb",
   "provenance": []
  },
  "kernelspec": {
   "display_name": "Python 3",
   "language": "python",
   "name": "python3"
  },
  "language_info": {
   "codemirror_mode": {
    "name": "ipython",
    "version": 3
   },
   "file_extension": ".py",
   "mimetype": "text/x-python",
   "name": "python",
   "nbconvert_exporter": "python",
   "pygments_lexer": "ipython3",
   "version": "3.7.6"
  },
  "vscode": {
   "interpreter": {
    "hash": "c3821546bbc1e8de8e6c0f199ccce536a06ca7aa9901fae8d08bf530e922397f"
   }
  }
 },
 "nbformat": 4,
 "nbformat_minor": 1
}
